{
  "nbformat": 4,
  "nbformat_minor": 0,
  "metadata": {
    "colab": {
      "provenance": [],
      "authorship_tag": "ABX9TyNhze39oAhV4/6LsqvBN3JF",
      "include_colab_link": true
    },
    "kernelspec": {
      "name": "ir",
      "display_name": "R"
    },
    "language_info": {
      "name": "R"
    }
  },
  "cells": [
    {
      "cell_type": "markdown",
      "metadata": {
        "id": "view-in-github",
        "colab_type": "text"
      },
      "source": [
        "<a href=\"https://colab.research.google.com/github/JulTob/R/blob/main/R_Chart.ipynb\" target=\"_parent\"><img src=\"https://colab.research.google.com/assets/colab-badge.svg\" alt=\"Open In Colab\"/></a>"
      ]
    },
    {
      "cell_type": "markdown",
      "source": [
        "# R in Google's Colab"
      ],
      "metadata": {
        "id": "YlC-QjUU1tjd"
      }
    },
    {
      "cell_type": "markdown",
      "metadata": {
        "id": "2d372f9d"
      },
      "source": [
        "To use R in Google Colab, you need to change the notebook's runtime type.\n",
        "Here's how:\n",
        "1. Go to the 'Runtime' menu at the top of the page.\n",
        "2. Select 'Change runtime type'.\n",
        "3. In the 'Notebook settings' dialog, choose 'R' from the 'Runtime type' dropdown menu.\n",
        "4. Click 'Save'.\n",
        "Once the runtime is set to R, you can directly write and execute R code in the cells.\n"
      ]
    },
    {
      "cell_type": "code",
      "metadata": {
        "colab": {
          "base_uri": "https://localhost:8080/"
        },
        "id": "c29ecfc6",
        "outputId": "a230a259-185e-4ec3-ee24-830a7eabfa26"
      },
      "source": [
        "# 1. Variable Assignment\n",
        "# In R, you can assign values to variables using the '<-' operator.\n",
        "my_variable <- 10\n",
        "my_string <- \"Hello, R!\"\n",
        "\n",
        "# 2. Data Types\n",
        "# R has several fundamental data types:\n",
        "# Numeric: Represents real numbers (can be integers or decimals).\n",
        "numeric_var <- 3.14\n",
        "# Integer: Represents whole numbers. To explicitly create an integer, append 'L'.\n",
        "integer_var <- 100L\n",
        "# Character: Represents strings.\n",
        "character_var <- \"This is a string.\"\n",
        "# Logical: Represents boolean values (TRUE or FALSE).\n",
        "logical_var <- TRUE\n",
        "\n",
        "# 3. Basic Operations\n",
        "# R supports standard arithmetic operations:\n",
        "a <- 5\n",
        "b <- 2\n",
        "sum_result <- a + b\n",
        "difference_result <- a - b\n",
        "product_result <- a * b\n",
        "division_result <- a / b\n",
        "power_result <- a ^ b # Exponentiation\n",
        "\n",
        "# 4. Printing Output\n",
        "# Use the print() function to display the value of a variable or expression.\n",
        "print(my_variable)\n",
        "print(my_string)\n",
        "print(numeric_var)\n",
        "print(integer_var)\n",
        "print(character_var)\n",
        "print(logical_var)\n",
        "print(sum_result)\n",
        "print(difference_result)\n",
        "print(product_result)\n",
        "print(division_result)\n",
        "print(power_result)"
      ],
      "execution_count": null,
      "outputs": [
        {
          "output_type": "stream",
          "name": "stdout",
          "text": [
            "[1] 10\n",
            "[1] \"Hello, R!\"\n",
            "[1] 3.14\n",
            "[1] 100\n",
            "[1] \"This is a string.\"\n",
            "[1] TRUE\n",
            "[1] 7\n",
            "[1] 3\n",
            "[1] 10\n",
            "[1] 2.5\n",
            "[1] 25\n"
          ]
        }
      ]
    },
    {
      "cell_type": "markdown",
      "source": [],
      "metadata": {
        "id": "Niyb_vVz3Pmp"
      }
    },
    {
      "cell_type": "code",
      "metadata": {
        "colab": {
          "base_uri": "https://localhost:8080/"
        },
        "id": "0cbbc829",
        "outputId": "6eb585a2-de70-4a41-88fa-ce15e4b5bde7"
      },
      "source": [
        "# 5. Logical Comparisons\n",
        "# R supports standard logical comparison operators:\n",
        "x <- 10\n",
        "y <- 5\n",
        "\n",
        "# Equal to\n",
        "is_equal <- (x == y)\n",
        "print(paste(\"Is x equal to y?\", is_equal))\n",
        "\n",
        "# Not equal to\n",
        "is_not_equal <- (x != y)\n",
        "print(paste(\"Is x not equal to y?\", is_not_equal))\n",
        "\n",
        "# Greater than\n",
        "is_greater <- (x > y)\n",
        "print(paste(\"Is x greater than y?\", is_greater))\n",
        "\n",
        "# Less than\n",
        "is_less <- (x < y)\n",
        "print(paste(\"Is x less than y?\", is_less))\n",
        "\n",
        "# Greater than or equal to\n",
        "is_greater_equal <- (x >= y)\n",
        "print(paste(\"Is x greater than or equal to y?\", is_greater_equal))\n",
        "\n",
        "# Less than or equal to\n",
        "is_less_equal <- (x <= y)\n",
        "print(paste(\"Is x less than or equal to y?\", is_less_equal))\n",
        "\n",
        "# Logical operators: AND (&), OR (|), NOT (!)\n",
        "p <- TRUE\n",
        "q <- FALSE\n",
        "\n",
        "logical_and <- (p & q)\n",
        "print(paste(\"p AND q:\", logical_and))\n",
        "\n",
        "logical_or <- (p | q)\n",
        "print(paste(\"p OR q:\", logical_or))\n",
        "\n",
        "logical_not_p <- (!p)\n",
        "print(paste(\"NOT p:\", logical_not_p))\n",
        "\n",
        "# 6. Basic Flow Control (If-Else)\n",
        "# The if-else statement allows you to execute code conditionally.\n",
        "score <- 85\n",
        "\n",
        "if (score >= 90) {\n",
        "  print(\"Excellent!\")\n",
        "} else if (score >= 70) {\n",
        "  print(\"Good job.\")\n",
        "} else {\n",
        "  print(\"Keep practicing.\")\n",
        "}\n",
        "\n",
        "# You can also use a simple if statement without an else:\n",
        "temperature <- 30\n",
        "\n",
        "if (temperature > 25) {\n",
        "  print(\"It's a warm day.\")\n",
        "}"
      ],
      "execution_count": null,
      "outputs": [
        {
          "output_type": "stream",
          "name": "stdout",
          "text": [
            "[1] \"Is x equal to y? FALSE\"\n",
            "[1] \"Is x not equal to y? TRUE\"\n",
            "[1] \"Is x greater than y? TRUE\"\n",
            "[1] \"Is x less than y? FALSE\"\n",
            "[1] \"Is x greater than or equal to y? TRUE\"\n",
            "[1] \"Is x less than or equal to y? FALSE\"\n",
            "[1] \"p AND q: FALSE\"\n",
            "[1] \"p OR q: TRUE\"\n",
            "[1] \"NOT p: FALSE\"\n",
            "[1] \"Good job.\"\n",
            "[1] \"It's a warm day.\"\n"
          ]
        }
      ]
    },
    {
      "cell_type": "markdown",
      "source": [
        "# 🪙 1. Vectors"
      ],
      "metadata": {
        "id": "sEAiuTx0MZtQ"
      }
    },
    {
      "cell_type": "code",
      "source": [
        "# Creating vectors\n",
        "nums <- c(2, 4, 6, 8)\n",
        "chars <- c(\"wind\", \"wave\", \"whale\")\n",
        "\n",
        "# Indexing\n",
        "nums[1]        # first element\n",
        "nums[2:3]      # range\n",
        "nums[-1]       # all but first\n"
      ],
      "metadata": {
        "colab": {
          "base_uri": "https://localhost:8080/",
          "height": 69
        },
        "id": "1fCBnOIoMbvf",
        "outputId": "873806da-42cb-4fb2-dd88-ee3c11c152a2"
      },
      "execution_count": null,
      "outputs": [
        {
          "output_type": "display_data",
          "data": {
            "text/html": [
              "2"
            ],
            "text/markdown": "2",
            "text/latex": "2",
            "text/plain": [
              "[1] 2"
            ]
          },
          "metadata": {}
        },
        {
          "output_type": "display_data",
          "data": {
            "text/html": [
              "<style>\n",
              ".list-inline {list-style: none; margin:0; padding: 0}\n",
              ".list-inline>li {display: inline-block}\n",
              ".list-inline>li:not(:last-child)::after {content: \"\\00b7\"; padding: 0 .5ex}\n",
              "</style>\n",
              "<ol class=list-inline><li>4</li><li>6</li></ol>\n"
            ],
            "text/markdown": "1. 4\n2. 6\n\n\n",
            "text/latex": "\\begin{enumerate*}\n\\item 4\n\\item 6\n\\end{enumerate*}\n",
            "text/plain": [
              "[1] 4 6"
            ]
          },
          "metadata": {}
        },
        {
          "output_type": "display_data",
          "data": {
            "text/html": [
              "<style>\n",
              ".list-inline {list-style: none; margin:0; padding: 0}\n",
              ".list-inline>li {display: inline-block}\n",
              ".list-inline>li:not(:last-child)::after {content: \"\\00b7\"; padding: 0 .5ex}\n",
              "</style>\n",
              "<ol class=list-inline><li>4</li><li>6</li><li>8</li></ol>\n"
            ],
            "text/markdown": "1. 4\n2. 6\n3. 8\n\n\n",
            "text/latex": "\\begin{enumerate*}\n\\item 4\n\\item 6\n\\item 8\n\\end{enumerate*}\n",
            "text/plain": [
              "[1] 4 6 8"
            ]
          },
          "metadata": {}
        }
      ]
    },
    {
      "cell_type": "markdown",
      "source": [
        "# 🧮 2. Sequences & Repetition"
      ],
      "metadata": {
        "id": "6jZPPN11MiVR"
      }
    },
    {
      "cell_type": "code",
      "source": [
        "seq(1, 10, by = 2)   # 1, 3, 5, 7, 9\n",
        "rep(\"Go!\", 3)      # repeat string\n"
      ],
      "metadata": {
        "colab": {
          "base_uri": "https://localhost:8080/",
          "height": 52
        },
        "id": "QU1MlBtCMjhY",
        "outputId": "92265a24-522b-4aca-b9d1-732f32a06bc8"
      },
      "execution_count": null,
      "outputs": [
        {
          "output_type": "display_data",
          "data": {
            "text/html": [
              "<style>\n",
              ".list-inline {list-style: none; margin:0; padding: 0}\n",
              ".list-inline>li {display: inline-block}\n",
              ".list-inline>li:not(:last-child)::after {content: \"\\00b7\"; padding: 0 .5ex}\n",
              "</style>\n",
              "<ol class=list-inline><li>1</li><li>3</li><li>5</li><li>7</li><li>9</li></ol>\n"
            ],
            "text/markdown": "1. 1\n2. 3\n3. 5\n4. 7\n5. 9\n\n\n",
            "text/latex": "\\begin{enumerate*}\n\\item 1\n\\item 3\n\\item 5\n\\item 7\n\\item 9\n\\end{enumerate*}\n",
            "text/plain": [
              "[1] 1 3 5 7 9"
            ]
          },
          "metadata": {}
        },
        {
          "output_type": "display_data",
          "data": {
            "text/html": [
              "<style>\n",
              ".list-inline {list-style: none; margin:0; padding: 0}\n",
              ".list-inline>li {display: inline-block}\n",
              ".list-inline>li:not(:last-child)::after {content: \"\\00b7\"; padding: 0 .5ex}\n",
              "</style>\n",
              "<ol class=list-inline><li>'Go!'</li><li>'Go!'</li><li>'Go!'</li></ol>\n"
            ],
            "text/markdown": "1. 'Go!'\n2. 'Go!'\n3. 'Go!'\n\n\n",
            "text/latex": "\\begin{enumerate*}\n\\item 'Go!'\n\\item 'Go!'\n\\item 'Go!'\n\\end{enumerate*}\n",
            "text/plain": [
              "[1] \"Go!\" \"Go!\" \"Go!\""
            ]
          },
          "metadata": {}
        }
      ]
    },
    {
      "cell_type": "markdown",
      "source": [
        "# 🧱 3. Matrices"
      ],
      "metadata": {
        "id": "8rEFMfrMMu-X"
      }
    },
    {
      "cell_type": "code",
      "source": [
        "A <- matrix(1:6, nrow = 2, ncol = 3)\n",
        "A[1,2]          # row 1, column 2\n",
        "t(A)            # transpose\n"
      ],
      "metadata": {
        "colab": {
          "base_uri": "https://localhost:8080/",
          "height": 215
        },
        "id": "ew0hQQaiMvu3",
        "outputId": "8c667a9a-1143-47a1-eeb9-cc401ddb559a"
      },
      "execution_count": null,
      "outputs": [
        {
          "output_type": "display_data",
          "data": {
            "text/html": [
              "3"
            ],
            "text/markdown": "3",
            "text/latex": "3",
            "text/plain": [
              "[1] 3"
            ]
          },
          "metadata": {}
        },
        {
          "output_type": "display_data",
          "data": {
            "text/html": [
              "<table class=\"dataframe\">\n",
              "<caption>A matrix: 3 × 2 of type int</caption>\n",
              "<tbody>\n",
              "\t<tr><td>1</td><td>2</td></tr>\n",
              "\t<tr><td>3</td><td>4</td></tr>\n",
              "\t<tr><td>5</td><td>6</td></tr>\n",
              "</tbody>\n",
              "</table>\n"
            ],
            "text/markdown": "\nA matrix: 3 × 2 of type int\n\n| 1 | 2 |\n| 3 | 4 |\n| 5 | 6 |\n\n",
            "text/latex": "A matrix: 3 × 2 of type int\n\\begin{tabular}{ll}\n\t 1 & 2\\\\\n\t 3 & 4\\\\\n\t 5 & 6\\\\\n\\end{tabular}\n",
            "text/plain": [
              "     [,1] [,2]\n",
              "[1,] 1    2   \n",
              "[2,] 3    4   \n",
              "[3,] 5    6   "
            ]
          },
          "metadata": {}
        }
      ]
    },
    {
      "cell_type": "code",
      "source": [
        "# Create a 3x3 matrix\n",
        "M <- matrix(1:9, nrow = 3, ncol = 3)\n",
        "M"
      ],
      "metadata": {
        "colab": {
          "base_uri": "https://localhost:8080/",
          "height": 163
        },
        "id": "mg7s9mTzgYCK",
        "outputId": "8a6581cb-b994-4e69-eeb9-f3539e61a68f"
      },
      "execution_count": null,
      "outputs": [
        {
          "output_type": "display_data",
          "data": {
            "text/html": [
              "<table class=\"dataframe\">\n",
              "<caption>A matrix: 3 × 3 of type int</caption>\n",
              "<tbody>\n",
              "\t<tr><td>1</td><td>4</td><td>7</td></tr>\n",
              "\t<tr><td>2</td><td>5</td><td>8</td></tr>\n",
              "\t<tr><td>3</td><td>6</td><td>9</td></tr>\n",
              "</tbody>\n",
              "</table>\n"
            ],
            "text/markdown": "\nA matrix: 3 × 3 of type int\n\n| 1 | 4 | 7 |\n| 2 | 5 | 8 |\n| 3 | 6 | 9 |\n\n",
            "text/latex": "A matrix: 3 × 3 of type int\n\\begin{tabular}{lll}\n\t 1 & 4 & 7\\\\\n\t 2 & 5 & 8\\\\\n\t 3 & 6 & 9\\\\\n\\end{tabular}\n",
            "text/plain": [
              "     [,1] [,2] [,3]\n",
              "[1,] 1    4    7   \n",
              "[2,] 2    5    8   \n",
              "[3,] 3    6    9   "
            ]
          },
          "metadata": {}
        }
      ]
    },
    {
      "cell_type": "code",
      "source": [
        "# Dimensions and Structure\n",
        "nrow(M)\n",
        "    # -- number of rows\n",
        "ncol(M)\n",
        "    # -- number of columns\n",
        "dim(M)\n",
        "    # -- both as a vector (rows, cols)\n"
      ],
      "metadata": {
        "colab": {
          "base_uri": "https://localhost:8080/",
          "height": 69
        },
        "id": "7A-Jy8DngbEk",
        "outputId": "ebaaa627-f958-410c-b239-9a637d7c160b"
      },
      "execution_count": null,
      "outputs": [
        {
          "output_type": "display_data",
          "data": {
            "text/html": [
              "3"
            ],
            "text/markdown": "3",
            "text/latex": "3",
            "text/plain": [
              "[1] 3"
            ]
          },
          "metadata": {}
        },
        {
          "output_type": "display_data",
          "data": {
            "text/html": [
              "3"
            ],
            "text/markdown": "3",
            "text/latex": "3",
            "text/plain": [
              "[1] 3"
            ]
          },
          "metadata": {}
        },
        {
          "output_type": "display_data",
          "data": {
            "text/html": [
              "<style>\n",
              ".list-inline {list-style: none; margin:0; padding: 0}\n",
              ".list-inline>li {display: inline-block}\n",
              ".list-inline>li:not(:last-child)::after {content: \"\\00b7\"; padding: 0 .5ex}\n",
              "</style>\n",
              "<ol class=list-inline><li>3</li><li>3</li></ol>\n"
            ],
            "text/markdown": "1. 3\n2. 3\n\n\n",
            "text/latex": "\\begin{enumerate*}\n\\item 3\n\\item 3\n\\end{enumerate*}\n",
            "text/plain": [
              "[1] 3 3"
            ]
          },
          "metadata": {}
        }
      ]
    },
    {
      "cell_type": "code",
      "source": [
        "# Accessing and Editing Elements\n",
        "\n",
        "M[2, 3]\n",
        "    # -- element in row 2, column 3\n",
        "M[, 2]\n",
        "    # -- entire 2nd column\n",
        "M[1, ]\n",
        "    # -- entire 1st row\n",
        "\n",
        "# Replace a value\n",
        "M[3, 3] <- 99\n",
        "M\n"
      ],
      "metadata": {
        "colab": {
          "base_uri": "https://localhost:8080/",
          "height": 215
        },
        "id": "buLr0WQggeB9",
        "outputId": "f62dc5b7-f1e2-4d14-a420-7882ecc56489"
      },
      "execution_count": null,
      "outputs": [
        {
          "output_type": "display_data",
          "data": {
            "text/html": [
              "8"
            ],
            "text/markdown": "8",
            "text/latex": "8",
            "text/plain": [
              "[1] 8"
            ]
          },
          "metadata": {}
        },
        {
          "output_type": "display_data",
          "data": {
            "text/html": [
              "<style>\n",
              ".list-inline {list-style: none; margin:0; padding: 0}\n",
              ".list-inline>li {display: inline-block}\n",
              ".list-inline>li:not(:last-child)::after {content: \"\\00b7\"; padding: 0 .5ex}\n",
              "</style>\n",
              "<ol class=list-inline><li>4</li><li>5</li><li>6</li></ol>\n"
            ],
            "text/markdown": "1. 4\n2. 5\n3. 6\n\n\n",
            "text/latex": "\\begin{enumerate*}\n\\item 4\n\\item 5\n\\item 6\n\\end{enumerate*}\n",
            "text/plain": [
              "[1] 4 5 6"
            ]
          },
          "metadata": {}
        },
        {
          "output_type": "display_data",
          "data": {
            "text/html": [
              "<style>\n",
              ".list-inline {list-style: none; margin:0; padding: 0}\n",
              ".list-inline>li {display: inline-block}\n",
              ".list-inline>li:not(:last-child)::after {content: \"\\00b7\"; padding: 0 .5ex}\n",
              "</style>\n",
              "<ol class=list-inline><li>1</li><li>4</li><li>7</li></ol>\n"
            ],
            "text/markdown": "1. 1\n2. 4\n3. 7\n\n\n",
            "text/latex": "\\begin{enumerate*}\n\\item 1\n\\item 4\n\\item 7\n\\end{enumerate*}\n",
            "text/plain": [
              "[1] 1 4 7"
            ]
          },
          "metadata": {}
        },
        {
          "output_type": "display_data",
          "data": {
            "text/html": [
              "<table class=\"dataframe\">\n",
              "<caption>A matrix: 3 × 3 of type dbl</caption>\n",
              "<tbody>\n",
              "\t<tr><td>1</td><td>4</td><td> 7</td></tr>\n",
              "\t<tr><td>2</td><td>5</td><td> 8</td></tr>\n",
              "\t<tr><td>3</td><td>6</td><td>99</td></tr>\n",
              "</tbody>\n",
              "</table>\n"
            ],
            "text/markdown": "\nA matrix: 3 × 3 of type dbl\n\n| 1 | 4 |  7 |\n| 2 | 5 |  8 |\n| 3 | 6 | 99 |\n\n",
            "text/latex": "A matrix: 3 × 3 of type dbl\n\\begin{tabular}{lll}\n\t 1 & 4 &  7\\\\\n\t 2 & 5 &  8\\\\\n\t 3 & 6 & 99\\\\\n\\end{tabular}\n",
            "text/plain": [
              "     [,1] [,2] [,3]\n",
              "[1,] 1    4     7  \n",
              "[2,] 2    5     8  \n",
              "[3,] 3    6    99  "
            ]
          },
          "metadata": {}
        }
      ]
    },
    {
      "cell_type": "code",
      "source": [
        "#Row and Column Names\n",
        "rownames(M) <- c(\"R1\", \"R2\", \"R3\")\n",
        "colnames(M) <- c(\"C1\", \"C2\", \"C3\")\n",
        "M\n",
        "\n"
      ],
      "metadata": {
        "colab": {
          "base_uri": "https://localhost:8080/",
          "height": 178
        },
        "id": "MYK1qs0pf6V2",
        "outputId": "8e84bb36-f57d-46cd-f4bf-22987cf98413"
      },
      "execution_count": null,
      "outputs": [
        {
          "output_type": "display_data",
          "data": {
            "text/html": [
              "<table class=\"dataframe\">\n",
              "<caption>A matrix: 3 × 3 of type dbl</caption>\n",
              "<thead>\n",
              "\t<tr><th></th><th scope=col>C1</th><th scope=col>C2</th><th scope=col>C3</th></tr>\n",
              "</thead>\n",
              "<tbody>\n",
              "\t<tr><th scope=row>R1</th><td>1</td><td>4</td><td> 7</td></tr>\n",
              "\t<tr><th scope=row>R2</th><td>2</td><td>5</td><td> 8</td></tr>\n",
              "\t<tr><th scope=row>R3</th><td>3</td><td>6</td><td>99</td></tr>\n",
              "</tbody>\n",
              "</table>\n"
            ],
            "text/markdown": "\nA matrix: 3 × 3 of type dbl\n\n| <!--/--> | C1 | C2 | C3 |\n|---|---|---|---|\n| R1 | 1 | 4 |  7 |\n| R2 | 2 | 5 |  8 |\n| R3 | 3 | 6 | 99 |\n\n",
            "text/latex": "A matrix: 3 × 3 of type dbl\n\\begin{tabular}{r|lll}\n  & C1 & C2 & C3\\\\\n\\hline\n\tR1 & 1 & 4 &  7\\\\\n\tR2 & 2 & 5 &  8\\\\\n\tR3 & 3 & 6 & 99\\\\\n\\end{tabular}\n",
            "text/plain": [
              "   C1 C2 C3\n",
              "R1 1  4   7\n",
              "R2 2  5   8\n",
              "R3 3  6  99"
            ]
          },
          "metadata": {}
        }
      ]
    },
    {
      "cell_type": "code",
      "source": [
        "# Basic Operations\n",
        "# Matrix addition & subtraction\n",
        "M + M\n",
        "M - M\n",
        "\n",
        "# Scalar multiplication\n",
        "2 * M\n",
        "\n",
        "# Matrix multiplication (dot product)\n",
        "M %*% M\n",
        "\n",
        "# Element-wise multiplication\n",
        "M * M\n"
      ],
      "metadata": {
        "colab": {
          "base_uri": "https://localhost:8080/",
          "height": 823
        },
        "id": "dqMThOE8hAw5",
        "outputId": "0ca9d514-bdf2-46c3-c9b4-61dd3d984409"
      },
      "execution_count": null,
      "outputs": [
        {
          "output_type": "display_data",
          "data": {
            "text/html": [
              "<table class=\"dataframe\">\n",
              "<caption>A matrix: 3 × 3 of type dbl</caption>\n",
              "<thead>\n",
              "\t<tr><th></th><th scope=col>C1</th><th scope=col>C2</th><th scope=col>C3</th></tr>\n",
              "</thead>\n",
              "<tbody>\n",
              "\t<tr><th scope=row>R1</th><td>2</td><td> 8</td><td> 14</td></tr>\n",
              "\t<tr><th scope=row>R2</th><td>4</td><td>10</td><td> 16</td></tr>\n",
              "\t<tr><th scope=row>R3</th><td>6</td><td>12</td><td>198</td></tr>\n",
              "</tbody>\n",
              "</table>\n"
            ],
            "text/markdown": "\nA matrix: 3 × 3 of type dbl\n\n| <!--/--> | C1 | C2 | C3 |\n|---|---|---|---|\n| R1 | 2 |  8 |  14 |\n| R2 | 4 | 10 |  16 |\n| R3 | 6 | 12 | 198 |\n\n",
            "text/latex": "A matrix: 3 × 3 of type dbl\n\\begin{tabular}{r|lll}\n  & C1 & C2 & C3\\\\\n\\hline\n\tR1 & 2 &  8 &  14\\\\\n\tR2 & 4 & 10 &  16\\\\\n\tR3 & 6 & 12 & 198\\\\\n\\end{tabular}\n",
            "text/plain": [
              "   C1 C2 C3 \n",
              "R1 2   8  14\n",
              "R2 4  10  16\n",
              "R3 6  12 198"
            ]
          },
          "metadata": {}
        },
        {
          "output_type": "display_data",
          "data": {
            "text/html": [
              "<table class=\"dataframe\">\n",
              "<caption>A matrix: 3 × 3 of type dbl</caption>\n",
              "<thead>\n",
              "\t<tr><th></th><th scope=col>C1</th><th scope=col>C2</th><th scope=col>C3</th></tr>\n",
              "</thead>\n",
              "<tbody>\n",
              "\t<tr><th scope=row>R1</th><td>0</td><td>0</td><td>0</td></tr>\n",
              "\t<tr><th scope=row>R2</th><td>0</td><td>0</td><td>0</td></tr>\n",
              "\t<tr><th scope=row>R3</th><td>0</td><td>0</td><td>0</td></tr>\n",
              "</tbody>\n",
              "</table>\n"
            ],
            "text/markdown": "\nA matrix: 3 × 3 of type dbl\n\n| <!--/--> | C1 | C2 | C3 |\n|---|---|---|---|\n| R1 | 0 | 0 | 0 |\n| R2 | 0 | 0 | 0 |\n| R3 | 0 | 0 | 0 |\n\n",
            "text/latex": "A matrix: 3 × 3 of type dbl\n\\begin{tabular}{r|lll}\n  & C1 & C2 & C3\\\\\n\\hline\n\tR1 & 0 & 0 & 0\\\\\n\tR2 & 0 & 0 & 0\\\\\n\tR3 & 0 & 0 & 0\\\\\n\\end{tabular}\n",
            "text/plain": [
              "   C1 C2 C3\n",
              "R1 0  0  0 \n",
              "R2 0  0  0 \n",
              "R3 0  0  0 "
            ]
          },
          "metadata": {}
        },
        {
          "output_type": "display_data",
          "data": {
            "text/html": [
              "<table class=\"dataframe\">\n",
              "<caption>A matrix: 3 × 3 of type dbl</caption>\n",
              "<thead>\n",
              "\t<tr><th></th><th scope=col>C1</th><th scope=col>C2</th><th scope=col>C3</th></tr>\n",
              "</thead>\n",
              "<tbody>\n",
              "\t<tr><th scope=row>R1</th><td>2</td><td> 8</td><td> 14</td></tr>\n",
              "\t<tr><th scope=row>R2</th><td>4</td><td>10</td><td> 16</td></tr>\n",
              "\t<tr><th scope=row>R3</th><td>6</td><td>12</td><td>198</td></tr>\n",
              "</tbody>\n",
              "</table>\n"
            ],
            "text/markdown": "\nA matrix: 3 × 3 of type dbl\n\n| <!--/--> | C1 | C2 | C3 |\n|---|---|---|---|\n| R1 | 2 |  8 |  14 |\n| R2 | 4 | 10 |  16 |\n| R3 | 6 | 12 | 198 |\n\n",
            "text/latex": "A matrix: 3 × 3 of type dbl\n\\begin{tabular}{r|lll}\n  & C1 & C2 & C3\\\\\n\\hline\n\tR1 & 2 &  8 &  14\\\\\n\tR2 & 4 & 10 &  16\\\\\n\tR3 & 6 & 12 & 198\\\\\n\\end{tabular}\n",
            "text/plain": [
              "   C1 C2 C3 \n",
              "R1 2   8  14\n",
              "R2 4  10  16\n",
              "R3 6  12 198"
            ]
          },
          "metadata": {}
        },
        {
          "output_type": "display_data",
          "data": {
            "text/html": [
              "<table class=\"dataframe\">\n",
              "<caption>A matrix: 3 × 3 of type dbl</caption>\n",
              "<thead>\n",
              "\t<tr><th></th><th scope=col>C1</th><th scope=col>C2</th><th scope=col>C3</th></tr>\n",
              "</thead>\n",
              "<tbody>\n",
              "\t<tr><th scope=row>R1</th><td> 30</td><td> 66</td><td> 732</td></tr>\n",
              "\t<tr><th scope=row>R2</th><td> 36</td><td> 81</td><td> 846</td></tr>\n",
              "\t<tr><th scope=row>R3</th><td>312</td><td>636</td><td>9870</td></tr>\n",
              "</tbody>\n",
              "</table>\n"
            ],
            "text/markdown": "\nA matrix: 3 × 3 of type dbl\n\n| <!--/--> | C1 | C2 | C3 |\n|---|---|---|---|\n| R1 |  30 |  66 |  732 |\n| R2 |  36 |  81 |  846 |\n| R3 | 312 | 636 | 9870 |\n\n",
            "text/latex": "A matrix: 3 × 3 of type dbl\n\\begin{tabular}{r|lll}\n  & C1 & C2 & C3\\\\\n\\hline\n\tR1 &  30 &  66 &  732\\\\\n\tR2 &  36 &  81 &  846\\\\\n\tR3 & 312 & 636 & 9870\\\\\n\\end{tabular}\n",
            "text/plain": [
              "   C1  C2  C3  \n",
              "R1  30  66  732\n",
              "R2  36  81  846\n",
              "R3 312 636 9870"
            ]
          },
          "metadata": {}
        },
        {
          "output_type": "display_data",
          "data": {
            "text/html": [
              "<table class=\"dataframe\">\n",
              "<caption>A matrix: 3 × 3 of type dbl</caption>\n",
              "<thead>\n",
              "\t<tr><th></th><th scope=col>C1</th><th scope=col>C2</th><th scope=col>C3</th></tr>\n",
              "</thead>\n",
              "<tbody>\n",
              "\t<tr><th scope=row>R1</th><td>1</td><td>16</td><td>  49</td></tr>\n",
              "\t<tr><th scope=row>R2</th><td>4</td><td>25</td><td>  64</td></tr>\n",
              "\t<tr><th scope=row>R3</th><td>9</td><td>36</td><td>9801</td></tr>\n",
              "</tbody>\n",
              "</table>\n"
            ],
            "text/markdown": "\nA matrix: 3 × 3 of type dbl\n\n| <!--/--> | C1 | C2 | C3 |\n|---|---|---|---|\n| R1 | 1 | 16 |   49 |\n| R2 | 4 | 25 |   64 |\n| R3 | 9 | 36 | 9801 |\n\n",
            "text/latex": "A matrix: 3 × 3 of type dbl\n\\begin{tabular}{r|lll}\n  & C1 & C2 & C3\\\\\n\\hline\n\tR1 & 1 & 16 &   49\\\\\n\tR2 & 4 & 25 &   64\\\\\n\tR3 & 9 & 36 & 9801\\\\\n\\end{tabular}\n",
            "text/plain": [
              "   C1 C2 C3  \n",
              "R1 1  16   49\n",
              "R2 4  25   64\n",
              "R3 9  36 9801"
            ]
          },
          "metadata": {}
        }
      ]
    },
    {
      "cell_type": "markdown",
      "source": [
        "### Determinant, Inverse, and Transpose"
      ],
      "metadata": {
        "id": "HMAcK1_ghK1x"
      }
    },
    {
      "cell_type": "code",
      "source": [
        "det(M)       # determinant\n",
        "t(M)         # transpose\n",
        "solve(M)     # inverse (only for square, non-singular matrices)\n"
      ],
      "metadata": {
        "colab": {
          "base_uri": "https://localhost:8080/",
          "height": 339
        },
        "id": "G5uPZZS9hN9P",
        "outputId": "f205c688-0234-4565-e127-6e4865511902"
      },
      "execution_count": null,
      "outputs": [
        {
          "output_type": "display_data",
          "data": {
            "text/html": [
              "-270"
            ],
            "text/markdown": "-270",
            "text/latex": "-270",
            "text/plain": [
              "[1] -270"
            ]
          },
          "metadata": {}
        },
        {
          "output_type": "display_data",
          "data": {
            "text/html": [
              "<table class=\"dataframe\">\n",
              "<caption>A matrix: 3 × 3 of type dbl</caption>\n",
              "<thead>\n",
              "\t<tr><th></th><th scope=col>R1</th><th scope=col>R2</th><th scope=col>R3</th></tr>\n",
              "</thead>\n",
              "<tbody>\n",
              "\t<tr><th scope=row>C1</th><td>1</td><td>2</td><td> 3</td></tr>\n",
              "\t<tr><th scope=row>C2</th><td>4</td><td>5</td><td> 6</td></tr>\n",
              "\t<tr><th scope=row>C3</th><td>7</td><td>8</td><td>99</td></tr>\n",
              "</tbody>\n",
              "</table>\n"
            ],
            "text/markdown": "\nA matrix: 3 × 3 of type dbl\n\n| <!--/--> | R1 | R2 | R3 |\n|---|---|---|---|\n| C1 | 1 | 2 |  3 |\n| C2 | 4 | 5 |  6 |\n| C3 | 7 | 8 | 99 |\n\n",
            "text/latex": "A matrix: 3 × 3 of type dbl\n\\begin{tabular}{r|lll}\n  & R1 & R2 & R3\\\\\n\\hline\n\tC1 & 1 & 2 &  3\\\\\n\tC2 & 4 & 5 &  6\\\\\n\tC3 & 7 & 8 & 99\\\\\n\\end{tabular}\n",
            "text/plain": [
              "   R1 R2 R3\n",
              "C1 1  2   3\n",
              "C2 4  5   6\n",
              "C3 7  8  99"
            ]
          },
          "metadata": {}
        },
        {
          "output_type": "display_data",
          "data": {
            "text/html": [
              "<table class=\"dataframe\">\n",
              "<caption>A matrix: 3 × 3 of type dbl</caption>\n",
              "<thead>\n",
              "\t<tr><th></th><th scope=col>R1</th><th scope=col>R2</th><th scope=col>R3</th></tr>\n",
              "</thead>\n",
              "<tbody>\n",
              "\t<tr><th scope=row>C1</th><td>-1.65555556</td><td> 1.31111111</td><td> 0.01111111</td></tr>\n",
              "\t<tr><th scope=row>C2</th><td> 0.64444444</td><td>-0.28888889</td><td>-0.02222222</td></tr>\n",
              "\t<tr><th scope=row>C3</th><td> 0.01111111</td><td>-0.02222222</td><td> 0.01111111</td></tr>\n",
              "</tbody>\n",
              "</table>\n"
            ],
            "text/markdown": "\nA matrix: 3 × 3 of type dbl\n\n| <!--/--> | R1 | R2 | R3 |\n|---|---|---|---|\n| C1 | -1.65555556 |  1.31111111 |  0.01111111 |\n| C2 |  0.64444444 | -0.28888889 | -0.02222222 |\n| C3 |  0.01111111 | -0.02222222 |  0.01111111 |\n\n",
            "text/latex": "A matrix: 3 × 3 of type dbl\n\\begin{tabular}{r|lll}\n  & R1 & R2 & R3\\\\\n\\hline\n\tC1 & -1.65555556 &  1.31111111 &  0.01111111\\\\\n\tC2 &  0.64444444 & -0.28888889 & -0.02222222\\\\\n\tC3 &  0.01111111 & -0.02222222 &  0.01111111\\\\\n\\end{tabular}\n",
            "text/plain": [
              "   R1          R2          R3         \n",
              "C1 -1.65555556  1.31111111  0.01111111\n",
              "C2  0.64444444 -0.28888889 -0.02222222\n",
              "C3  0.01111111 -0.02222222  0.01111111"
            ]
          },
          "metadata": {}
        }
      ]
    },
    {
      "cell_type": "markdown",
      "source": [
        "### Combining Matrices"
      ],
      "metadata": {
        "id": "tkQT8sZmhSkQ"
      }
    },
    {
      "cell_type": "code",
      "source": [
        "A <- matrix(1:6, nrow = 2, ncol = 3)\n",
        "B <- matrix(7:12, nrow = 2, ncol = 3)\n",
        "\n",
        "rbind(A, B)  # bind rows\n",
        "cbind(A, B)  # bind columns\n"
      ],
      "metadata": {
        "colab": {
          "base_uri": "https://localhost:8080/",
          "height": 292
        },
        "id": "4RIw8saPhUSH",
        "outputId": "bae3fe39-7059-44c2-a7ec-6785ff246517"
      },
      "execution_count": null,
      "outputs": [
        {
          "output_type": "display_data",
          "data": {
            "text/html": [
              "<table class=\"dataframe\">\n",
              "<caption>A matrix: 4 × 3 of type int</caption>\n",
              "<tbody>\n",
              "\t<tr><td>1</td><td> 3</td><td> 5</td></tr>\n",
              "\t<tr><td>2</td><td> 4</td><td> 6</td></tr>\n",
              "\t<tr><td>7</td><td> 9</td><td>11</td></tr>\n",
              "\t<tr><td>8</td><td>10</td><td>12</td></tr>\n",
              "</tbody>\n",
              "</table>\n"
            ],
            "text/markdown": "\nA matrix: 4 × 3 of type int\n\n| 1 |  3 |  5 |\n| 2 |  4 |  6 |\n| 7 |  9 | 11 |\n| 8 | 10 | 12 |\n\n",
            "text/latex": "A matrix: 4 × 3 of type int\n\\begin{tabular}{lll}\n\t 1 &  3 &  5\\\\\n\t 2 &  4 &  6\\\\\n\t 7 &  9 & 11\\\\\n\t 8 & 10 & 12\\\\\n\\end{tabular}\n",
            "text/plain": [
              "     [,1] [,2] [,3]\n",
              "[1,] 1     3    5  \n",
              "[2,] 2     4    6  \n",
              "[3,] 7     9   11  \n",
              "[4,] 8    10   12  "
            ]
          },
          "metadata": {}
        },
        {
          "output_type": "display_data",
          "data": {
            "text/html": [
              "<table class=\"dataframe\">\n",
              "<caption>A matrix: 2 × 6 of type int</caption>\n",
              "<tbody>\n",
              "\t<tr><td>1</td><td>3</td><td>5</td><td>7</td><td> 9</td><td>11</td></tr>\n",
              "\t<tr><td>2</td><td>4</td><td>6</td><td>8</td><td>10</td><td>12</td></tr>\n",
              "</tbody>\n",
              "</table>\n"
            ],
            "text/markdown": "\nA matrix: 2 × 6 of type int\n\n| 1 | 3 | 5 | 7 |  9 | 11 |\n| 2 | 4 | 6 | 8 | 10 | 12 |\n\n",
            "text/latex": "A matrix: 2 × 6 of type int\n\\begin{tabular}{llllll}\n\t 1 & 3 & 5 & 7 &  9 & 11\\\\\n\t 2 & 4 & 6 & 8 & 10 & 12\\\\\n\\end{tabular}\n",
            "text/plain": [
              "     [,1] [,2] [,3] [,4] [,5] [,6]\n",
              "[1,] 1    3    5    7     9   11  \n",
              "[2,] 2    4    6    8    10   12  "
            ]
          },
          "metadata": {}
        }
      ]
    },
    {
      "cell_type": "markdown",
      "source": [
        "### Checking Properties"
      ],
      "metadata": {
        "id": "rASv80x4hJEu"
      }
    },
    {
      "cell_type": "code",
      "source": [
        "is.matrix(M)\n",
        "isSymmetric(M)\n"
      ],
      "metadata": {
        "colab": {
          "base_uri": "https://localhost:8080/",
          "height": 52
        },
        "id": "E_lH7ukmhiqg",
        "outputId": "3705b338-1420-45d0-96c2-9eb0f9c88712"
      },
      "execution_count": null,
      "outputs": [
        {
          "output_type": "display_data",
          "data": {
            "text/html": [
              "TRUE"
            ],
            "text/markdown": "TRUE",
            "text/latex": "TRUE",
            "text/plain": [
              "[1] TRUE"
            ]
          },
          "metadata": {}
        },
        {
          "output_type": "display_data",
          "data": {
            "text/html": [
              "FALSE"
            ],
            "text/markdown": "FALSE",
            "text/latex": "FALSE",
            "text/plain": [
              "[1] FALSE"
            ]
          },
          "metadata": {}
        }
      ]
    },
    {
      "cell_type": "markdown",
      "source": [
        "# 📊 4. Data Frames"
      ],
      "metadata": {
        "id": "n46wJdjmM1YL"
      }
    },
    {
      "cell_type": "code",
      "source": [
        "crew <- data.frame(\n",
        "    name = c(\"Anne\", \"Jack\", \"Calico\"),\n",
        "    role = c(\"Navigator\", \"Cook\", \"Quartermaster\"),\n",
        "    age  = c(28, 35, 40)\n",
        "    )\n",
        "\n",
        "crew$name\n",
        "crew[crew$age > 30, ]\n"
      ],
      "metadata": {
        "colab": {
          "base_uri": "https://localhost:8080/",
          "height": 178
        },
        "id": "nekKxfFtM2HL",
        "outputId": "360614a2-f103-40ee-9a04-93e88447577f"
      },
      "execution_count": null,
      "outputs": [
        {
          "output_type": "display_data",
          "data": {
            "text/html": [
              "<style>\n",
              ".list-inline {list-style: none; margin:0; padding: 0}\n",
              ".list-inline>li {display: inline-block}\n",
              ".list-inline>li:not(:last-child)::after {content: \"\\00b7\"; padding: 0 .5ex}\n",
              "</style>\n",
              "<ol class=list-inline><li>'Anne'</li><li>'Jack'</li><li>'Calico'</li></ol>\n"
            ],
            "text/markdown": "1. 'Anne'\n2. 'Jack'\n3. 'Calico'\n\n\n",
            "text/latex": "\\begin{enumerate*}\n\\item 'Anne'\n\\item 'Jack'\n\\item 'Calico'\n\\end{enumerate*}\n",
            "text/plain": [
              "[1] \"Anne\"   \"Jack\"   \"Calico\""
            ]
          },
          "metadata": {}
        },
        {
          "output_type": "display_data",
          "data": {
            "text/html": [
              "<table class=\"dataframe\">\n",
              "<caption>A data.frame: 2 × 3</caption>\n",
              "<thead>\n",
              "\t<tr><th></th><th scope=col>name</th><th scope=col>role</th><th scope=col>age</th></tr>\n",
              "\t<tr><th></th><th scope=col>&lt;chr&gt;</th><th scope=col>&lt;chr&gt;</th><th scope=col>&lt;dbl&gt;</th></tr>\n",
              "</thead>\n",
              "<tbody>\n",
              "\t<tr><th scope=row>2</th><td>Jack  </td><td>Cook         </td><td>35</td></tr>\n",
              "\t<tr><th scope=row>3</th><td>Calico</td><td>Quartermaster</td><td>40</td></tr>\n",
              "</tbody>\n",
              "</table>\n"
            ],
            "text/markdown": "\nA data.frame: 2 × 3\n\n| <!--/--> | name &lt;chr&gt; | role &lt;chr&gt; | age &lt;dbl&gt; |\n|---|---|---|---|\n| 2 | Jack   | Cook          | 35 |\n| 3 | Calico | Quartermaster | 40 |\n\n",
            "text/latex": "A data.frame: 2 × 3\n\\begin{tabular}{r|lll}\n  & name & role & age\\\\\n  & <chr> & <chr> & <dbl>\\\\\n\\hline\n\t2 & Jack   & Cook          & 35\\\\\n\t3 & Calico & Quartermaster & 40\\\\\n\\end{tabular}\n",
            "text/plain": [
              "  name   role          age\n",
              "2 Jack   Cook          35 \n",
              "3 Calico Quartermaster 40 "
            ]
          },
          "metadata": {}
        }
      ]
    },
    {
      "cell_type": "markdown",
      "source": [
        "# 🧺 5. Lists"
      ],
      "metadata": {
        "id": "m8dgLrCRNB8P"
      }
    },
    {
      "cell_type": "code",
      "source": [
        "ship <- list(\n",
        "    name = \"The R-Voyager\",\n",
        "    year = 2025,\n",
        "    crew = crew,\n",
        "    cargo = c(\"rum\", \"rope\", \"code\")\n",
        "    )\n",
        "\n",
        "ship$name\n",
        "ship$crew$role"
      ],
      "metadata": {
        "colab": {
          "base_uri": "https://localhost:8080/",
          "height": 52
        },
        "id": "Tl3unS0RNG8i",
        "outputId": "0c423d28-33e4-4597-d8b0-20e9fd97763e"
      },
      "execution_count": null,
      "outputs": [
        {
          "output_type": "display_data",
          "data": {
            "text/html": [
              "'The R-Voyager'"
            ],
            "text/markdown": "'The R-Voyager'",
            "text/latex": "'The R-Voyager'",
            "text/plain": [
              "[1] \"The R-Voyager\""
            ]
          },
          "metadata": {}
        },
        {
          "output_type": "display_data",
          "data": {
            "text/html": [
              "<style>\n",
              ".list-inline {list-style: none; margin:0; padding: 0}\n",
              ".list-inline>li {display: inline-block}\n",
              ".list-inline>li:not(:last-child)::after {content: \"\\00b7\"; padding: 0 .5ex}\n",
              "</style>\n",
              "<ol class=list-inline><li>'Navigator'</li><li>'Cook'</li><li>'Quartermaster'</li></ol>\n"
            ],
            "text/markdown": "1. 'Navigator'\n2. 'Cook'\n3. 'Quartermaster'\n\n\n",
            "text/latex": "\\begin{enumerate*}\n\\item 'Navigator'\n\\item 'Cook'\n\\item 'Quartermaster'\n\\end{enumerate*}\n",
            "text/plain": [
              "[1] \"Navigator\"     \"Cook\"          \"Quartermaster\""
            ]
          },
          "metadata": {}
        }
      ]
    },
    {
      "cell_type": "markdown",
      "source": [
        "# ⚙️ 6. Functions"
      ],
      "metadata": {
        "id": "_eodQTJ7NDjZ"
      }
    },
    {
      "cell_type": "code",
      "source": [
        "# Simple function\n",
        "square <- function(x) { x^2 }\n",
        "\n",
        "square(4)\n"
      ],
      "metadata": {
        "colab": {
          "base_uri": "https://localhost:8080/",
          "height": 34
        },
        "id": "qtoiSUQcNFnj",
        "outputId": "e2cd69d3-ff8b-4752-c7b3-c55eb3042dfd"
      },
      "execution_count": null,
      "outputs": [
        {
          "output_type": "display_data",
          "data": {
            "text/html": [
              "16"
            ],
            "text/markdown": "16",
            "text/latex": "16",
            "text/plain": [
              "[1] 16"
            ]
          },
          "metadata": {}
        }
      ]
    },
    {
      "cell_type": "markdown",
      "source": [
        "# 📂 7. File I/O"
      ],
      "metadata": {
        "id": "eZLZHcRfNUan"
      }
    },
    {
      "cell_type": "code",
      "source": [
        "# Write and read back a CSV\n",
        "write.csv(crew, \"crew.csv\", row.names = FALSE)\n",
        "loaded <- read.csv(\"crew.csv\")\n",
        "print(loaded)\n"
      ],
      "metadata": {
        "colab": {
          "base_uri": "https://localhost:8080/"
        },
        "id": "3IP1lpTDNWmT",
        "outputId": "94a3ce80-26dc-4e09-8819-095566e057ad"
      },
      "execution_count": null,
      "outputs": [
        {
          "output_type": "stream",
          "name": "stdout",
          "text": [
            "    name          role age\n",
            "1   Anne     Navigator  28\n",
            "2   Jack          Cook  35\n",
            "3 Calico Quartermaster  40\n"
          ]
        }
      ]
    },
    {
      "cell_type": "markdown",
      "source": [
        "# 📈 8. Descriptive Stats"
      ],
      "metadata": {
        "id": "yN4cfDiXNcWf"
      }
    },
    {
      "cell_type": "code",
      "source": [
        "x <- c(4, 8, 9, 12, 16)\n",
        "mean(x)\n",
        "median(x)\n",
        "sd(x)\n",
        "summary(x)\n"
      ],
      "metadata": {
        "colab": {
          "base_uri": "https://localhost:8080/",
          "height": 106
        },
        "id": "e3H2gOMXNYDG",
        "outputId": "e8c2397f-3816-4d74-c029-e6ccca4d5641"
      },
      "execution_count": null,
      "outputs": [
        {
          "output_type": "display_data",
          "data": {
            "text/html": [
              "9.8"
            ],
            "text/markdown": "9.8",
            "text/latex": "9.8",
            "text/plain": [
              "[1] 9.8"
            ]
          },
          "metadata": {}
        },
        {
          "output_type": "display_data",
          "data": {
            "text/html": [
              "9"
            ],
            "text/markdown": "9",
            "text/latex": "9",
            "text/plain": [
              "[1] 9"
            ]
          },
          "metadata": {}
        },
        {
          "output_type": "display_data",
          "data": {
            "text/html": [
              "4.49444101084885"
            ],
            "text/markdown": "4.49444101084885",
            "text/latex": "4.49444101084885",
            "text/plain": [
              "[1] 4.494441"
            ]
          },
          "metadata": {}
        },
        {
          "output_type": "display_data",
          "data": {
            "text/plain": [
              "   Min. 1st Qu.  Median    Mean 3rd Qu.    Max. \n",
              "    4.0     8.0     9.0     9.8    12.0    16.0 "
            ]
          },
          "metadata": {}
        }
      ]
    },
    {
      "cell_type": "markdown",
      "source": [
        "# 🗺️ 9. Basic Plots"
      ],
      "metadata": {
        "id": "ZZKD9Dt5Nfax"
      }
    },
    {
      "cell_type": "code",
      "source": [
        "hist(x, col = \"skyblue\", main = \"Histogram of x\")\n",
        "boxplot(x, col = \"coral\")\n",
        "plot(x, type = \"b\", col = \"goldenrod\")\n"
      ],
      "metadata": {
        "colab": {
          "base_uri": "https://localhost:8080/",
          "height": 1000
        },
        "id": "MJQiELHpNeD-",
        "outputId": "e3cea2b5-705b-4520-b1a4-ace420be8a32"
      },
      "execution_count": null,
      "outputs": [
        {
          "output_type": "display_data",
          "data": {
            "text/plain": [
              "Plot with title “Histogram of x”"
            ],
            "image/png": "[encoded data removed]"
          },
          "metadata": {
            "image/png": {
              "width": 420,
              "height": 420
            }
          }
        },
        {
          "output_type": "display_data",
          "data": {
            "text/plain": [
              "plot without title"
            ],
            "image/png": "[encoded data removed]"
          },
          "metadata": {
            "image/png": {
              "width": 420,
              "height": 420
            }
          }
        },
        {
          "output_type": "display_data",
          "data": {
            "text/plain": [
              "plot without title"
            ],
            "image/png": "[encoded data removed]"
          },
          "metadata": {
            "image/png": {
              "width": 420,
              "height": 420
            }
          }
        }
      ]
    },
    {
      "cell_type": "markdown",
      "source": [
        "# A. ⚓ Helpful Utilities"
      ],
      "metadata": {
        "id": "I2Obmof3N1ie"
      }
    },
    {
      "cell_type": "code",
      "source": [
        "getwd()       # current working directory\n",
        "# setwd(\"/path/to/folder\") # For R Studio\n",
        "rm(list = ls())   # clear workspace\n"
      ],
      "metadata": {
        "colab": {
          "base_uri": "https://localhost:8080/",
          "height": 34
        },
        "id": "1YpWnKy7NhEu",
        "outputId": "bc0b15bf-eb56-410f-f622-224a5c120333"
      },
      "execution_count": null,
      "outputs": [
        {
          "output_type": "display_data",
          "data": {
            "text/html": [
              "'/content'"
            ],
            "text/markdown": "'/content'",
            "text/latex": "'/content'",
            "text/plain": [
              "[1] \"/content\""
            ]
          },
          "metadata": {}
        }
      ]
    },
    {
      "cell_type": "markdown",
      "source": [
        "# B. 🧭 Logic and Comparisons"
      ],
      "metadata": {
        "id": "cjs0SciHOywH"
      }
    },
    {
      "cell_type": "markdown",
      "source": [
        "Logical comparisons in R are vectorized—that means every element in a vector gets compared, and the result is a vector of TRUE or FALSE.\n"
      ],
      "metadata": {
        "id": "Sj-vV5C2O4HP"
      }
    },
    {
      "cell_type": "markdown",
      "source": [
        "They’re the backbone of filtering and conditional control."
      ],
      "metadata": {
        "id": "Ql81YAC_O8Va"
      }
    },
    {
      "cell_type": "code",
      "source": [
        "# Tracking daily productivity (hours of focused work)\n",
        "studio <- c(5, 6, 4, 8, 9, 3, 7)\n",
        "cafe   <- c(4, 5, 6, 7, 5, 2, 8)\n",
        "\n",
        "# Higher Productivity Days\n",
        "studio > 6\n",
        "    # -- Returns a logical vector marking which days had more than 6 productive hours.\n",
        "\n",
        "# Lower Productivity Days\n",
        "studio <= 4\n",
        "    # -- Shows the quieter, low-output days.\n",
        "\n",
        "# Comparing Two Series\n",
        "studio > cafe\n",
        "\n",
        "# Days with higher productivity in the studio\n",
        "studio[studio > cafe]\n",
        "\n",
        "# Days that were both long (>6 hours) and better than the cafe\n",
        "studio[studio > 6 & studio > cafe]\n",
        "\n",
        "# Days that were short (≤4) or worse than the cafe\n",
        "studio[studio <= 4 | studio < cafe]\n",
        "\n",
        "# -- Counting and Summarizing Logical Results\n",
        "\n",
        "# Count how many TRUEs (days matching condition)\n",
        "sum(studio > cafe)\n",
        "\n",
        "# Proportion of such days\n",
        "mean(studio > cafe)\n"
      ],
      "metadata": {
        "colab": {
          "base_uri": "https://localhost:8080/",
          "height": 156
        },
        "id": "uZ6vR9EGN4Wt",
        "outputId": "1fbea89a-db9e-4428-e5b5-a57e9510f741"
      },
      "execution_count": null,
      "outputs": [
        {
          "output_type": "display_data",
          "data": {
            "text/html": [
              "<style>\n",
              ".list-inline {list-style: none; margin:0; padding: 0}\n",
              ".list-inline>li {display: inline-block}\n",
              ".list-inline>li:not(:last-child)::after {content: \"\\00b7\"; padding: 0 .5ex}\n",
              "</style>\n",
              "<ol class=list-inline><li>FALSE</li><li>FALSE</li><li>FALSE</li><li>TRUE</li><li>TRUE</li><li>FALSE</li><li>TRUE</li></ol>\n"
            ],
            "text/markdown": "1. FALSE\n2. FALSE\n3. FALSE\n4. TRUE\n5. TRUE\n6. FALSE\n7. TRUE\n\n\n",
            "text/latex": "\\begin{enumerate*}\n\\item FALSE\n\\item FALSE\n\\item FALSE\n\\item TRUE\n\\item TRUE\n\\item FALSE\n\\item TRUE\n\\end{enumerate*}\n",
            "text/plain": [
              "[1] FALSE FALSE FALSE  TRUE  TRUE FALSE  TRUE"
            ]
          },
          "metadata": {}
        },
        {
          "output_type": "display_data",
          "data": {
            "text/html": [
              "<style>\n",
              ".list-inline {list-style: none; margin:0; padding: 0}\n",
              ".list-inline>li {display: inline-block}\n",
              ".list-inline>li:not(:last-child)::after {content: \"\\00b7\"; padding: 0 .5ex}\n",
              "</style>\n",
              "<ol class=list-inline><li>FALSE</li><li>FALSE</li><li>TRUE</li><li>FALSE</li><li>FALSE</li><li>TRUE</li><li>FALSE</li></ol>\n"
            ],
            "text/markdown": "1. FALSE\n2. FALSE\n3. TRUE\n4. FALSE\n5. FALSE\n6. TRUE\n7. FALSE\n\n\n",
            "text/latex": "\\begin{enumerate*}\n\\item FALSE\n\\item FALSE\n\\item TRUE\n\\item FALSE\n\\item FALSE\n\\item TRUE\n\\item FALSE\n\\end{enumerate*}\n",
            "text/plain": [
              "[1] FALSE FALSE  TRUE FALSE FALSE  TRUE FALSE"
            ]
          },
          "metadata": {}
        },
        {
          "output_type": "display_data",
          "data": {
            "text/html": [
              "<style>\n",
              ".list-inline {list-style: none; margin:0; padding: 0}\n",
              ".list-inline>li {display: inline-block}\n",
              ".list-inline>li:not(:last-child)::after {content: \"\\00b7\"; padding: 0 .5ex}\n",
              "</style>\n",
              "<ol class=list-inline><li>TRUE</li><li>TRUE</li><li>FALSE</li><li>TRUE</li><li>TRUE</li><li>TRUE</li><li>FALSE</li></ol>\n"
            ],
            "text/markdown": "1. TRUE\n2. TRUE\n3. FALSE\n4. TRUE\n5. TRUE\n6. TRUE\n7. FALSE\n\n\n",
            "text/latex": "\\begin{enumerate*}\n\\item TRUE\n\\item TRUE\n\\item FALSE\n\\item TRUE\n\\item TRUE\n\\item TRUE\n\\item FALSE\n\\end{enumerate*}\n",
            "text/plain": [
              "[1]  TRUE  TRUE FALSE  TRUE  TRUE  TRUE FALSE"
            ]
          },
          "metadata": {}
        },
        {
          "output_type": "display_data",
          "data": {
            "text/html": [
              "<style>\n",
              ".list-inline {list-style: none; margin:0; padding: 0}\n",
              ".list-inline>li {display: inline-block}\n",
              ".list-inline>li:not(:last-child)::after {content: \"\\00b7\"; padding: 0 .5ex}\n",
              "</style>\n",
              "<ol class=list-inline><li>5</li><li>6</li><li>8</li><li>9</li><li>3</li></ol>\n"
            ],
            "text/markdown": "1. 5\n2. 6\n3. 8\n4. 9\n5. 3\n\n\n",
            "text/latex": "\\begin{enumerate*}\n\\item 5\n\\item 6\n\\item 8\n\\item 9\n\\item 3\n\\end{enumerate*}\n",
            "text/plain": [
              "[1] 5 6 8 9 3"
            ]
          },
          "metadata": {}
        },
        {
          "output_type": "display_data",
          "data": {
            "text/html": [
              "<style>\n",
              ".list-inline {list-style: none; margin:0; padding: 0}\n",
              ".list-inline>li {display: inline-block}\n",
              ".list-inline>li:not(:last-child)::after {content: \"\\00b7\"; padding: 0 .5ex}\n",
              "</style>\n",
              "<ol class=list-inline><li>8</li><li>9</li></ol>\n"
            ],
            "text/markdown": "1. 8\n2. 9\n\n\n",
            "text/latex": "\\begin{enumerate*}\n\\item 8\n\\item 9\n\\end{enumerate*}\n",
            "text/plain": [
              "[1] 8 9"
            ]
          },
          "metadata": {}
        },
        {
          "output_type": "display_data",
          "data": {
            "text/html": [
              "<style>\n",
              ".list-inline {list-style: none; margin:0; padding: 0}\n",
              ".list-inline>li {display: inline-block}\n",
              ".list-inline>li:not(:last-child)::after {content: \"\\00b7\"; padding: 0 .5ex}\n",
              "</style>\n",
              "<ol class=list-inline><li>4</li><li>3</li><li>7</li></ol>\n"
            ],
            "text/markdown": "1. 4\n2. 3\n3. 7\n\n\n",
            "text/latex": "\\begin{enumerate*}\n\\item 4\n\\item 3\n\\item 7\n\\end{enumerate*}\n",
            "text/plain": [
              "[1] 4 3 7"
            ]
          },
          "metadata": {}
        },
        {
          "output_type": "display_data",
          "data": {
            "text/html": [
              "5"
            ],
            "text/markdown": "5",
            "text/latex": "5",
            "text/plain": [
              "[1] 5"
            ]
          },
          "metadata": {}
        },
        {
          "output_type": "display_data",
          "data": {
            "text/html": [
              "0.714285714285714"
            ],
            "text/markdown": "0.714285714285714",
            "text/latex": "0.714285714285714",
            "text/plain": [
              "[1] 0.7142857"
            ]
          },
          "metadata": {}
        }
      ]
    },
    {
      "cell_type": "markdown",
      "source": [
        "#### Quick Reference\n",
        "\n",
        "| Operator | Meaning          | Example        | Result |        |      |\n",
        "| -------- | ---------------- | -------------- | ------ | ------ | ---- |\n",
        "| `>`      | greater than     | `5 > 3`        | TRUE   |        |      |\n",
        "| `<`      | less than        | `3 < 5`        | TRUE   |        |      |\n",
        "| `>=`     | greater or equal | `5 >= 5`       | TRUE   |        |      |\n",
        "| `<=`     | less or equal    | `2 <= 1`       | FALSE  |        |      |\n",
        "| `==`     | equal            | `5 == 5`       | TRUE   |        |      |\n",
        "| `!=`     | not equal        | `5 != 4`       | TRUE   |        |      |\n",
        "| `&`      | AND              | `TRUE & FALSE` | FALSE  |        |      |\n",
        "| `⎮`                | OR             | `TRUE  ⎮ FALSE` | TRUE |\n",
        "| `!`      | NOT              | `!TRUE`        | FALSE  |        |      |\n",
        "\n",
        "---"
      ],
      "metadata": {
        "id": "_6MDYEbJQAk_"
      }
    },
    {
      "cell_type": "markdown",
      "source": [
        "# ⚙️ C. Flow Control and Functions"
      ],
      "metadata": {
        "id": "-IekYj7EUnlu"
      }
    },
    {
      "cell_type": "markdown",
      "source": [
        "You will need *flow control* to decide what happens when conditions are met.\n",
        "\n",
        "R uses `if`, `else if`, and `else` to branch behavior. Functions let you wrap logic into reusable, named routines."
      ],
      "metadata": {
        "id": "ejq6xHvOUuI3"
      }
    },
    {
      "cell_type": "markdown",
      "source": [
        "#### 🧩 Conditional Control: `if`, `else if`, and `else`"
      ],
      "metadata": {
        "id": "Fr9ulw8LU3Ld"
      }
    },
    {
      "cell_type": "code",
      "source": [
        "# Simulated daily hours of focused work\n",
        "hours <- 7\n",
        "\n",
        "if (hours >= 8) {\n",
        "  print(\"Full day of focus.\")\n",
        "} else if (hours >= 5) {\n",
        "  print(\"Decent effort.\")\n",
        "} else {\n",
        "  print(\"Try again tomorrow.\")\n",
        "}"
      ],
      "metadata": {
        "colab": {
          "base_uri": "https://localhost:8080/"
        },
        "id": "9uglkdmcPCVo",
        "outputId": "a63696c4-a885-493e-a867-7c75a14570f4"
      },
      "execution_count": null,
      "outputs": [
        {
          "output_type": "stream",
          "name": "stdout",
          "text": [
            "[1] \"Decent effort.\"\n"
          ]
        }
      ]
    },
    {
      "cell_type": "markdown",
      "source": [
        "> Output depends on the value of `hours`."
      ],
      "metadata": {
        "id": "IAjl8p6nU_PV"
      }
    },
    {
      "cell_type": "markdown",
      "source": [
        "#### 🌿 Vectorized Conditions with `ifelse()`"
      ],
      "metadata": {
        "id": "qhJho2chVC9T"
      }
    },
    {
      "cell_type": "markdown",
      "source": [
        "The standard `if` checks a single logical value,\n",
        "but `ifelse()` works on *vectors* and returns a vector result."
      ],
      "metadata": {
        "id": "GbWbeOV1VFVc"
      }
    },
    {
      "cell_type": "code",
      "source": [
        "# Vector of daily hours\n",
        "focus <- c(4, 6, 8, 3, 7)\n",
        "\n",
        "# Assign performance labels\n",
        "performance <- ifelse(focus >= 8, \"Excellent\",\n",
        "ifelse(focus >= 5, \"Good\", \"Needs Rest\"))\n",
        "\n",
        "performance"
      ],
      "metadata": {
        "colab": {
          "base_uri": "https://localhost:8080/",
          "height": 34
        },
        "id": "P0D0hB6fVAxG",
        "outputId": "cabfa245-856c-404f-b131-f52ebf85e866"
      },
      "execution_count": null,
      "outputs": [
        {
          "output_type": "display_data",
          "data": {
            "text/html": [
              "<style>\n",
              ".list-inline {list-style: none; margin:0; padding: 0}\n",
              ".list-inline>li {display: inline-block}\n",
              ".list-inline>li:not(:last-child)::after {content: \"\\00b7\"; padding: 0 .5ex}\n",
              "</style>\n",
              "<ol class=list-inline><li>'Needs Rest'</li><li>'Good'</li><li>'Excellent'</li><li>'Needs Rest'</li><li>'Good'</li></ol>\n"
            ],
            "text/markdown": "1. 'Needs Rest'\n2. 'Good'\n3. 'Excellent'\n4. 'Needs Rest'\n5. 'Good'\n\n\n",
            "text/latex": "\\begin{enumerate*}\n\\item 'Needs Rest'\n\\item 'Good'\n\\item 'Excellent'\n\\item 'Needs Rest'\n\\item 'Good'\n\\end{enumerate*}\n",
            "text/plain": [
              "[1] \"Needs Rest\" \"Good\"       \"Excellent\"  \"Needs Rest\" \"Good\"      "
            ]
          },
          "metadata": {}
        }
      ]
    },
    {
      "cell_type": "markdown",
      "source": [
        "> This classifies each day without looping."
      ],
      "metadata": {
        "id": "9a6l_nhjVNg0"
      }
    },
    {
      "cell_type": "markdown",
      "source": [
        "#### 🛠️ Creating Functions"
      ],
      "metadata": {
        "id": "v01fmHYAVRKo"
      }
    },
    {
      "cell_type": "markdown",
      "source": [
        "Functions let you reuse and structure your logic."
      ],
      "metadata": {
        "id": "txCfpAvmVS4o"
      }
    },
    {
      "cell_type": "code",
      "source": [
        "# A function to evaluate focus by day\n",
        "evaluate_focus <- function(hours) {\n",
        "  if (hours >= 8) {\n",
        "    return(\"Excellent\")\n",
        "  } else if (hours >= 5) {\n",
        "    return(\"Good\")\n",
        "  } else {\n",
        "    return(\"Needs Rest\")\n",
        "  }\n",
        "}\n",
        "\n",
        "# Test the function\n",
        "evaluate_focus(6)\n",
        "evaluate_focus(9)"
      ],
      "metadata": {
        "colab": {
          "base_uri": "https://localhost:8080/",
          "height": 52
        },
        "id": "Q4GmLvLbVIG_",
        "outputId": "edbd75f1-bd83-471e-c5bb-36b5b8cc6cd0"
      },
      "execution_count": null,
      "outputs": [
        {
          "output_type": "display_data",
          "data": {
            "text/html": [
              "'Good'"
            ],
            "text/markdown": "'Good'",
            "text/latex": "'Good'",
            "text/plain": [
              "[1] \"Good\""
            ]
          },
          "metadata": {}
        },
        {
          "output_type": "display_data",
          "data": {
            "text/html": [
              "'Excellent'"
            ],
            "text/markdown": "'Excellent'",
            "text/latex": "'Excellent'",
            "text/plain": [
              "[1] \"Excellent\""
            ]
          },
          "metadata": {}
        }
      ]
    },
    {
      "cell_type": "markdown",
      "source": [
        "#### ⚙️ Functions That Work on Vectors"
      ],
      "metadata": {
        "id": "3p1z7LYWVf6X"
      }
    },
    {
      "cell_type": "markdown",
      "source": [
        "You can combine what you’ve learned: vectorization + functions."
      ],
      "metadata": {
        "id": "X7ZCHTINVhk_"
      }
    },
    {
      "cell_type": "code",
      "source": [
        "# Apply the function to an entire vector\n",
        "focus <- c(4, 6, 8, 3, 7)\n",
        "results <- sapply(focus, evaluate_focus)\n",
        "\n",
        "results"
      ],
      "metadata": {
        "colab": {
          "base_uri": "https://localhost:8080/",
          "height": 34
        },
        "id": "B_76JTXMVVNf",
        "outputId": "75e90891-f752-4a09-a899-9e7fe0183ba7"
      },
      "execution_count": null,
      "outputs": [
        {
          "output_type": "display_data",
          "data": {
            "text/html": [
              "<style>\n",
              ".list-inline {list-style: none; margin:0; padding: 0}\n",
              ".list-inline>li {display: inline-block}\n",
              ".list-inline>li:not(:last-child)::after {content: \"\\00b7\"; padding: 0 .5ex}\n",
              "</style>\n",
              "<ol class=list-inline><li>'Needs Rest'</li><li>'Good'</li><li>'Excellent'</li><li>'Needs Rest'</li><li>'Good'</li></ol>\n"
            ],
            "text/markdown": "1. 'Needs Rest'\n2. 'Good'\n3. 'Excellent'\n4. 'Needs Rest'\n5. 'Good'\n\n\n",
            "text/latex": "\\begin{enumerate*}\n\\item 'Needs Rest'\n\\item 'Good'\n\\item 'Excellent'\n\\item 'Needs Rest'\n\\item 'Good'\n\\end{enumerate*}\n",
            "text/plain": [
              "[1] \"Needs Rest\" \"Good\"       \"Excellent\"  \"Needs Rest\" \"Good\"      "
            ]
          },
          "metadata": {}
        }
      ]
    },
    {
      "cell_type": "markdown",
      "source": [
        "`sapply()` applies a function to every element of a vector and simplifies the result.\n",
        "If you prefer a list result instead, use `lapply()`."
      ],
      "metadata": {
        "id": "TXX4Vvr3VoZD"
      }
    },
    {
      "cell_type": "code",
      "source": [
        "compare_focus <- function(studio, cafe) {\n",
        "  ifelse(studio > cafe, \"Studio\", \"Cafe\")\n",
        "}\n",
        "\n",
        "compare_focus(studio, cafe)"
      ],
      "metadata": {
        "colab": {
          "base_uri": "https://localhost:8080/",
          "height": 34
        },
        "id": "bQ0SuJk6VuV2",
        "outputId": "02fe2891-f71c-4d76-eea8-7d3afa9c854e"
      },
      "execution_count": null,
      "outputs": [
        {
          "output_type": "display_data",
          "data": {
            "text/html": [
              "<style>\n",
              ".list-inline {list-style: none; margin:0; padding: 0}\n",
              ".list-inline>li {display: inline-block}\n",
              ".list-inline>li:not(:last-child)::after {content: \"\\00b7\"; padding: 0 .5ex}\n",
              "</style>\n",
              "<ol class=list-inline><li>'Studio'</li><li>'Studio'</li><li>'Cafe'</li><li>'Studio'</li><li>'Studio'</li><li>'Studio'</li><li>'Cafe'</li></ol>\n"
            ],
            "text/markdown": "1. 'Studio'\n2. 'Studio'\n3. 'Cafe'\n4. 'Studio'\n5. 'Studio'\n6. 'Studio'\n7. 'Cafe'\n\n\n",
            "text/latex": "\\begin{enumerate*}\n\\item 'Studio'\n\\item 'Studio'\n\\item 'Cafe'\n\\item 'Studio'\n\\item 'Studio'\n\\item 'Studio'\n\\item 'Cafe'\n\\end{enumerate*}\n",
            "text/plain": [
              "[1] \"Studio\" \"Studio\" \"Cafe\"   \"Studio\" \"Studio\" \"Studio\" \"Cafe\"  "
            ]
          },
          "metadata": {}
        }
      ]
    },
    {
      "cell_type": "markdown",
      "source": [
        "# 🔁 D. Loops and Functional Repetition"
      ],
      "metadata": {
        "id": "NTidw_ZOddOr"
      }
    },
    {
      "cell_type": "markdown",
      "source": [
        "In R, loops exist — but most of the time, you can (and should) replace them with functional constructs."
      ],
      "metadata": {
        "id": "goA7_1mjdfPl"
      }
    },
    {
      "cell_type": "markdown",
      "source": [
        "#### 1. while Loop — Step-by-Step Evaluation"
      ],
      "metadata": {
        "id": "gq5vyNvZdrzH"
      }
    },
    {
      "cell_type": "code",
      "source": [
        "# While loop: counts until reaching 5\n",
        "count <- 1\n",
        "\n",
        "while (count <= 5) {\n",
        "    print(paste(\"Iteration:\", count))\n",
        "    count <- count + 1\n",
        "    }\n"
      ],
      "metadata": {
        "colab": {
          "base_uri": "https://localhost:8080/"
        },
        "id": "sIoD-YY5VlPs",
        "outputId": "19622954-90fd-4a59-ab17-e170ae655cba"
      },
      "execution_count": null,
      "outputs": [
        {
          "output_type": "stream",
          "name": "stdout",
          "text": [
            "[1] \"Iteration: 1\"\n",
            "[1] \"Iteration: 2\"\n",
            "[1] \"Iteration: 3\"\n",
            "[1] \"Iteration: 4\"\n",
            "[1] \"Iteration: 5\"\n"
          ]
        }
      ]
    },
    {
      "cell_type": "markdown",
      "source": [
        "#### 2. Recursion — Expressing the Same Idea Functionally"
      ],
      "metadata": {
        "id": "q2utNGyOdxng"
      }
    },
    {
      "cell_type": "code",
      "source": [
        "count_up <- function(n) {\n",
        "    if (n > 5) return()\n",
        "    print(paste(\"Iteration:\", n))\n",
        "    count_up(n + 1)\n",
        "    }\n",
        "\n",
        "count_up(1)\n"
      ],
      "metadata": {
        "colab": {
          "base_uri": "https://localhost:8080/",
          "height": 127
        },
        "id": "4Z3YJt_WdgtV",
        "outputId": "fe74e7eb-be84-4a64-bc36-ab8d2f1153b6"
      },
      "execution_count": null,
      "outputs": [
        {
          "output_type": "stream",
          "name": "stdout",
          "text": [
            "[1] \"Iteration: 1\"\n",
            "[1] \"Iteration: 2\"\n",
            "[1] \"Iteration: 3\"\n",
            "[1] \"Iteration: 4\"\n",
            "[1] \"Iteration: 5\"\n"
          ]
        },
        {
          "output_type": "display_data",
          "data": {
            "text/plain": [
              "NULL"
            ]
          },
          "metadata": {}
        }
      ]
    },
    {
      "cell_type": "markdown",
      "source": [
        "Recursion expresses the same logic as a self-calling function.\n",
        "\n",
        "Each function call represents a state in the computation, rather than a mutable variable."
      ],
      "metadata": {
        "id": "5ky_Qw8teE-m"
      }
    },
    {
      "cell_type": "markdown",
      "source": [
        "#### 3. Functional Repetition — Using Vectorization"
      ],
      "metadata": {
        "id": "1fvJKxJieHcF"
      }
    },
    {
      "cell_type": "code",
      "source": [
        "# Directly “apply” a function over a vector of indices\n",
        "sapply(1:5, function(i) paste(\"Iteration:\", i))\n"
      ],
      "metadata": {
        "colab": {
          "base_uri": "https://localhost:8080/",
          "height": 34
        },
        "id": "Otiv7dLHd236",
        "outputId": "0b36856a-6449-4b47-e3d7-baf76a3fd991"
      },
      "execution_count": null,
      "outputs": [
        {
          "output_type": "display_data",
          "data": {
            "text/html": [
              "<style>\n",
              ".list-inline {list-style: none; margin:0; padding: 0}\n",
              ".list-inline>li {display: inline-block}\n",
              ".list-inline>li:not(:last-child)::after {content: \"\\00b7\"; padding: 0 .5ex}\n",
              "</style>\n",
              "<ol class=list-inline><li>'Iteration: 1'</li><li>'Iteration: 2'</li><li>'Iteration: 3'</li><li>'Iteration: 4'</li><li>'Iteration: 5'</li></ol>\n"
            ],
            "text/markdown": "1. 'Iteration: 1'\n2. 'Iteration: 2'\n3. 'Iteration: 3'\n4. 'Iteration: 4'\n5. 'Iteration: 5'\n\n\n",
            "text/latex": "\\begin{enumerate*}\n\\item 'Iteration: 1'\n\\item 'Iteration: 2'\n\\item 'Iteration: 3'\n\\item 'Iteration: 4'\n\\item 'Iteration: 5'\n\\end{enumerate*}\n",
            "text/plain": [
              "[1] \"Iteration: 1\" \"Iteration: 2\" \"Iteration: 3\" \"Iteration: 4\" \"Iteration: 5\""
            ]
          },
          "metadata": {}
        }
      ]
    },
    {
      "cell_type": "markdown",
      "source": [
        "This produces the same output, with no explicit loop or state mutation — the functional R way."
      ],
      "metadata": {
        "id": "r9j40dS3eNAI"
      }
    },
    {
      "cell_type": "markdown",
      "source": [
        "#### 4. A Real Example — Summing Elements"
      ],
      "metadata": {
        "id": "9sa_slpCePjU"
      }
    },
    {
      "cell_type": "code",
      "source": [
        "# Procedural: using a loop\n",
        "nums <- 1:5\n",
        "total <- 0\n",
        "for (x in nums) {\n",
        "    total <- total + x\n",
        "    }\n",
        "total\n",
        "\n",
        "# Functional: using sum()\n",
        "sum(nums)\n"
      ],
      "metadata": {
        "colab": {
          "base_uri": "https://localhost:8080/",
          "height": 52
        },
        "id": "sQ4RKCZReJe1",
        "outputId": "2bc00c61-afe6-42e7-ef62-952627ec05e8"
      },
      "execution_count": null,
      "outputs": [
        {
          "output_type": "display_data",
          "data": {
            "text/html": [
              "15"
            ],
            "text/markdown": "15",
            "text/latex": "15",
            "text/plain": [
              "[1] 15"
            ]
          },
          "metadata": {}
        },
        {
          "output_type": "display_data",
          "data": {
            "text/html": [
              "15"
            ],
            "text/markdown": "15",
            "text/latex": "15",
            "text/plain": [
              "[1] 15"
            ]
          },
          "metadata": {}
        }
      ]
    },
    {
      "cell_type": "markdown",
      "source": [
        "R’s strength lies in replacing explicit iteration with higher-level expressions that describe what should happen, not how it’s done."
      ],
      "metadata": {
        "id": "KPgOExVaecYK"
      }
    },
    {
      "cell_type": "markdown",
      "source": [
        "---\n",
        "\n",
        "## 🧬 E. Functions as First-Class Objects\n",
        "\n",
        "In R, **functions are first-class objects** — they can be:\n",
        "\n",
        "* Stored in variables\n",
        "* Passed as arguments\n",
        "* Returned by other functions\n",
        "* Built dynamically\n",
        "\n",
        "You can think of them as **data that does work**.\n"
      ],
      "metadata": {
        "id": "yx9_TFRTrSVx"
      }
    },
    {
      "cell_type": "markdown",
      "source": [
        "---\n",
        "\n",
        "### 1. Creating and Calling Functions\n"
      ],
      "metadata": {
        "id": "Hy1KquE7rYdA"
      }
    },
    {
      "cell_type": "code",
      "source": [
        "# A simple function\n",
        "square <- function(x) {\n",
        "  x ^ 2\n",
        "}\n",
        "\n",
        "square(5)"
      ],
      "metadata": {
        "colab": {
          "base_uri": "https://localhost:8080/",
          "height": 34
        },
        "id": "iIuAI5XdrbA8",
        "outputId": "c1f17a6e-4d3b-4392-c240-0ae77bbd2aa1"
      },
      "execution_count": null,
      "outputs": [
        {
          "output_type": "display_data",
          "data": {
            "text/html": [
              "25"
            ],
            "text/markdown": "25",
            "text/latex": "25",
            "text/plain": [
              "[1] 25"
            ]
          },
          "metadata": {}
        }
      ]
    },
    {
      "cell_type": "markdown",
      "source": [
        "A function in R is defined with `function()`, and its body is enclosed in `{}`.\n",
        "\n",
        "The value of the last expression (or anything returned by `return()`) is the output.\n"
      ],
      "metadata": {
        "id": "LgAnDHUBrdmw"
      }
    },
    {
      "cell_type": "markdown",
      "source": [
        "### 2. Functions as Objects\n"
      ],
      "metadata": {
        "id": "8ur-ZUL3rgTZ"
      }
    },
    {
      "cell_type": "code",
      "source": [
        "# Assign the function to a new name\n",
        "f <- square\n",
        "\n",
        "# f now points to the same function\n",
        "f(6)\n",
        "\n",
        "# List all functions (and objects) in memory\n",
        "ls()"
      ],
      "metadata": {
        "colab": {
          "base_uri": "https://localhost:8080/",
          "height": 86
        },
        "id": "2H6D8NtGrnqb",
        "outputId": "83d58310-4558-4ea9-88d6-40f980a418f7"
      },
      "execution_count": null,
      "outputs": [
        {
          "output_type": "display_data",
          "data": {
            "text/html": [
              "36"
            ],
            "text/markdown": "36",
            "text/latex": "36",
            "text/plain": [
              "[1] 36"
            ]
          },
          "metadata": {}
        },
        {
          "output_type": "display_data",
          "data": {
            "text/html": [
              "<style>\n",
              ".list-inline {list-style: none; margin:0; padding: 0}\n",
              ".list-inline>li {display: inline-block}\n",
              ".list-inline>li:not(:last-child)::after {content: \"\\00b7\"; padding: 0 .5ex}\n",
              "</style>\n",
              "<ol class=list-inline><li>'A'</li><li>'B'</li><li>'cafe'</li><li>'compare_focus'</li><li>'count'</li><li>'count_up'</li><li>'evaluate_focus'</li><li>'f'</li><li>'focus'</li><li>'hours'</li><li>'M'</li><li>'nums'</li><li>'performance'</li><li>'results'</li><li>'square'</li><li>'studio'</li><li>'total'</li><li>'x'</li></ol>\n"
            ],
            "text/markdown": "1. 'A'\n2. 'B'\n3. 'cafe'\n4. 'compare_focus'\n5. 'count'\n6. 'count_up'\n7. 'evaluate_focus'\n8. 'f'\n9. 'focus'\n10. 'hours'\n11. 'M'\n12. 'nums'\n13. 'performance'\n14. 'results'\n15. 'square'\n16. 'studio'\n17. 'total'\n18. 'x'\n\n\n",
            "text/latex": "\\begin{enumerate*}\n\\item 'A'\n\\item 'B'\n\\item 'cafe'\n\\item 'compare\\_focus'\n\\item 'count'\n\\item 'count\\_up'\n\\item 'evaluate\\_focus'\n\\item 'f'\n\\item 'focus'\n\\item 'hours'\n\\item 'M'\n\\item 'nums'\n\\item 'performance'\n\\item 'results'\n\\item 'square'\n\\item 'studio'\n\\item 'total'\n\\item 'x'\n\\end{enumerate*}\n",
            "text/plain": [
              " [1] \"A\"              \"B\"              \"cafe\"           \"compare_focus\" \n",
              " [5] \"count\"          \"count_up\"       \"evaluate_focus\" \"f\"             \n",
              " [9] \"focus\"          \"hours\"          \"M\"              \"nums\"          \n",
              "[13] \"performance\"    \"results\"        \"square\"         \"studio\"        \n",
              "[17] \"total\"          \"x\"             "
            ]
          },
          "metadata": {}
        }
      ]
    },
    {
      "cell_type": "markdown",
      "source": [
        "Functions behave like any other object — you can store them, inspect them, and modify them.\n"
      ],
      "metadata": {
        "id": "azplpKOWrtcG"
      }
    },
    {
      "cell_type": "markdown",
      "source": [
        "### 3. Passing Functions as Arguments\n"
      ],
      "metadata": {
        "id": "s6PJy3LErwVD"
      }
    },
    {
      "cell_type": "code",
      "source": [
        "# Define some functions\n",
        "add_one <- function(x) x + 1\n",
        "double  <- function(x) x * 2\n",
        "\n",
        "# A higher-order function\n",
        "apply_function <- function(f, values) {\n",
        "  sapply(values, f)\n",
        "}\n",
        "\n",
        "apply_function(add_one, 1:5)\n",
        "apply_function(double, 1:5)"
      ],
      "metadata": {
        "colab": {
          "base_uri": "https://localhost:8080/",
          "height": 52
        },
        "id": "g2QhE5dwrzFC",
        "outputId": "b37bdcfd-beff-47e5-f3be-e1ef954b8300"
      },
      "execution_count": null,
      "outputs": [
        {
          "output_type": "display_data",
          "data": {
            "text/html": [
              "<style>\n",
              ".list-inline {list-style: none; margin:0; padding: 0}\n",
              ".list-inline>li {display: inline-block}\n",
              ".list-inline>li:not(:last-child)::after {content: \"\\00b7\"; padding: 0 .5ex}\n",
              "</style>\n",
              "<ol class=list-inline><li>2</li><li>3</li><li>4</li><li>5</li><li>6</li></ol>\n"
            ],
            "text/markdown": "1. 2\n2. 3\n3. 4\n4. 5\n5. 6\n\n\n",
            "text/latex": "\\begin{enumerate*}\n\\item 2\n\\item 3\n\\item 4\n\\item 5\n\\item 6\n\\end{enumerate*}\n",
            "text/plain": [
              "[1] 2 3 4 5 6"
            ]
          },
          "metadata": {}
        },
        {
          "output_type": "display_data",
          "data": {
            "text/html": [
              "<style>\n",
              ".list-inline {list-style: none; margin:0; padding: 0}\n",
              ".list-inline>li {display: inline-block}\n",
              ".list-inline>li:not(:last-child)::after {content: \"\\00b7\"; padding: 0 .5ex}\n",
              "</style>\n",
              "<ol class=list-inline><li>2</li><li>4</li><li>6</li><li>8</li><li>10</li></ol>\n"
            ],
            "text/markdown": "1. 2\n2. 4\n3. 6\n4. 8\n5. 10\n\n\n",
            "text/latex": "\\begin{enumerate*}\n\\item 2\n\\item 4\n\\item 6\n\\item 8\n\\item 10\n\\end{enumerate*}\n",
            "text/plain": [
              "[1]  2  4  6  8 10"
            ]
          },
          "metadata": {}
        }
      ]
    },
    {
      "cell_type": "markdown",
      "source": [
        "This is the functional heart of R — *functions applied to functions*.\n"
      ],
      "metadata": {
        "id": "QIYLUKYer5Nc"
      }
    },
    {
      "cell_type": "markdown",
      "source": [
        "### 4. Returning Functions\n"
      ],
      "metadata": {
        "id": "sxCXtefKsEOL"
      }
    },
    {
      "cell_type": "code",
      "source": [
        "# Function factory: returns a new function\n",
        "power_factory <- function(n) {\n",
        "  function(x) x ^ n\n",
        "}\n",
        "\n",
        "square <- power_factory(2)\n",
        "cube   <- power_factory(3)\n",
        "\n",
        "square(4)\n",
        "cube(2)"
      ],
      "metadata": {
        "colab": {
          "base_uri": "https://localhost:8080/",
          "height": 52
        },
        "id": "WMHkPL0gsHRI",
        "outputId": "f2dea0d8-40cd-4684-f620-4e353ea58803"
      },
      "execution_count": null,
      "outputs": [
        {
          "output_type": "display_data",
          "data": {
            "text/html": [
              "16"
            ],
            "text/markdown": "16",
            "text/latex": "16",
            "text/plain": [
              "[1] 16"
            ]
          },
          "metadata": {}
        },
        {
          "output_type": "display_data",
          "data": {
            "text/html": [
              "8"
            ],
            "text/markdown": "8",
            "text/latex": "8",
            "text/plain": [
              "[1] 8"
            ]
          },
          "metadata": {}
        }
      ]
    },
    {
      "cell_type": "markdown",
      "source": [
        "You can generate new functions dynamically.\n",
        "This is called a **closure** — the returned function remembers the environment where it was created.\n",
        "\n"
      ],
      "metadata": {
        "id": "I9zd0orZsMWk"
      }
    },
    {
      "cell_type": "code",
      "source": [
        "### 5. Anonymous (Lambda) Functions\n"
      ],
      "metadata": {
        "id": "jzgj1kH_sTSj"
      },
      "execution_count": null,
      "outputs": []
    },
    {
      "cell_type": "markdown",
      "source": [
        "You can define functions without naming them:\n"
      ],
      "metadata": {
        "id": "_fKZ_4krsXO5"
      }
    },
    {
      "cell_type": "code",
      "source": [
        "# Anonymous function used directly in sapply()\n",
        "sapply(1:5, function(x) x^3)"
      ],
      "metadata": {
        "colab": {
          "base_uri": "https://localhost:8080/",
          "height": 34
        },
        "id": "jEbqb0-dsZIS",
        "outputId": "20eeb0b6-26be-4f0e-be9b-cd2266f99281"
      },
      "execution_count": null,
      "outputs": [
        {
          "output_type": "display_data",
          "data": {
            "text/html": [
              "<style>\n",
              ".list-inline {list-style: none; margin:0; padding: 0}\n",
              ".list-inline>li {display: inline-block}\n",
              ".list-inline>li:not(:last-child)::after {content: \"\\00b7\"; padding: 0 .5ex}\n",
              "</style>\n",
              "<ol class=list-inline><li>1</li><li>8</li><li>27</li><li>64</li><li>125</li></ol>\n"
            ],
            "text/markdown": "1. 1\n2. 8\n3. 27\n4. 64\n5. 125\n\n\n",
            "text/latex": "\\begin{enumerate*}\n\\item 1\n\\item 8\n\\item 27\n\\item 64\n\\item 125\n\\end{enumerate*}\n",
            "text/plain": [
              "[1]   1   8  27  64 125"
            ]
          },
          "metadata": {}
        }
      ]
    },
    {
      "cell_type": "markdown",
      "source": [
        "These are useful for short, one-off computations.\n"
      ],
      "metadata": {
        "id": "hplo3kkcsY3d"
      }
    },
    {
      "cell_type": "markdown",
      "source": [
        "### 6. Inspecting Functions\n"
      ],
      "metadata": {
        "id": "mWMj20H1seJZ"
      }
    },
    {
      "cell_type": "code",
      "source": [
        "# Look at the source code\n",
        "print(square)\n",
        "body(square)\n",
        "\n",
        "# Check formals (arguments)\n",
        "formals(square)\n",
        "\n",
        "# View the environment\n",
        "environment(square)"
      ],
      "metadata": {
        "colab": {
          "base_uri": "https://localhost:8080/",
          "height": 146
        },
        "id": "dDvkrP_LsgNL",
        "outputId": "8d2d76b3-9769-46d8-c717-ca42ff337614"
      },
      "execution_count": null,
      "outputs": [
        {
          "output_type": "stream",
          "name": "stdout",
          "text": [
            "function (x) \n",
            "x^n\n",
            "<environment: 0x5aeae8570f18>\n"
          ]
        },
        {
          "output_type": "display_data",
          "data": {
            "text/plain": [
              "x^n"
            ]
          },
          "metadata": {}
        },
        {
          "output_type": "display_data",
          "data": {
            "text/plain": [
              "$x\n",
              "\n"
            ]
          },
          "metadata": {}
        },
        {
          "output_type": "display_data",
          "data": {
            "text/plain": [
              "<environment: 0x5aeae8570f18>"
            ]
          },
          "metadata": {}
        }
      ]
    },
    {
      "cell_type": "markdown",
      "source": [
        "R treats functions as structured objects — with arguments (`formals`), a body (`body`), and an environment (`environment`).\n",
        "\n",
        "---\n",
        "\n",
        "### 🧠 Key Takeaways\n",
        "\n",
        "* Everything in R is an **object**, and **functions are objects that can create or transform others.**\n",
        "* Functions can:\n",
        "\n",
        "  * **Take** other functions as inputs\n",
        "  * **Return** new functions as outputs\n",
        "  * **Capture** their environment through closures\n",
        "* This enables elegant, compact, and reusable code — the essence of the *functional paradigm*.\n"
      ],
      "metadata": {
        "id": "f1NuU23Mques"
      }
    },
    {
      "cell_type": "code",
      "source": [],
      "metadata": {
        "id": "7CtqHQiLeSET"
      },
      "execution_count": null,
      "outputs": []
    }
  ]
}